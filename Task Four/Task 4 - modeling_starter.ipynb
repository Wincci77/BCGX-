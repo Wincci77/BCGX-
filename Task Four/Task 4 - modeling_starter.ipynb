{
 "cells": [
  {
   "cell_type": "markdown",
   "metadata": {
    "id": "c4noH7q4USKQ"
   },
   "source": [
    "# Feature Engineering and Modelling\n",
    "\n",
    "---\n",
    "\n",
    "1. Import packages\n",
    "2. Load data\n",
    "3. Modelling\n",
    "\n",
    "---\n",
    "\n",
    "## 1. Import packages"
   ]
  },
  {
   "cell_type": "code",
   "execution_count": 2,
   "metadata": {
    "id": "NwE6osQpUSKS"
   },
   "outputs": [],
   "source": [
    "import warnings\n",
    "warnings.filterwarnings(\"ignore\", category=FutureWarning)"
   ]
  },
  {
   "cell_type": "code",
   "execution_count": 3,
   "metadata": {
    "id": "cm3WmjAZUSKT"
   },
   "outputs": [],
   "source": [
    "import pandas as pd\n",
    "import numpy as np\n",
    "import seaborn as sns\n",
    "from datetime import datetime\n",
    "import matplotlib.pyplot as plt\n",
    "\n",
    "from sklearn.model_selection import train_test_split\n",
    "from sklearn.ensemble import RandomForestClassifier\n",
    "from sklearn.metrics import accuracy_score, confusion_matrix, classification_report, roc_auc_score\n",
    "\n",
    "# Shows plots in jupyter notebook\n",
    "%matplotlib inline\n",
    "\n",
    "# Set plot style\n",
    "sns.set(color_codes=True)"
   ]
  },
  {
   "cell_type": "markdown",
   "metadata": {
    "id": "sewogUFaUSKU"
   },
   "source": [
    "---\n",
    "## 2. Load data"
   ]
  },
  {
   "cell_type": "code",
   "execution_count": 4,
   "metadata": {
    "id": "oaIJfXJjUSKU",
    "outputId": "c218e74d-f4bb-4150-b1e3-22d38d83fc07"
   },
   "outputs": [
    {
     "data": {
      "text/html": [
       "<div>\n",
       "<style scoped>\n",
       "    .dataframe tbody tr th:only-of-type {\n",
       "        vertical-align: middle;\n",
       "    }\n",
       "\n",
       "    .dataframe tbody tr th {\n",
       "        vertical-align: top;\n",
       "    }\n",
       "\n",
       "    .dataframe thead th {\n",
       "        text-align: right;\n",
       "    }\n",
       "</style>\n",
       "<table border=\"1\" class=\"dataframe\">\n",
       "  <thead>\n",
       "    <tr style=\"text-align: right;\">\n",
       "      <th></th>\n",
       "      <th>id</th>\n",
       "      <th>cons_12m</th>\n",
       "      <th>cons_gas_12m</th>\n",
       "      <th>cons_last_month</th>\n",
       "      <th>forecast_cons_12m</th>\n",
       "      <th>forecast_discount_energy</th>\n",
       "      <th>forecast_meter_rent_12m</th>\n",
       "      <th>forecast_price_energy_off_peak</th>\n",
       "      <th>forecast_price_energy_peak</th>\n",
       "      <th>forecast_price_pow_off_peak</th>\n",
       "      <th>...</th>\n",
       "      <th>months_modif_prod</th>\n",
       "      <th>months_renewal</th>\n",
       "      <th>channel_MISSING</th>\n",
       "      <th>channel_ewpakwlliwisiwduibdlfmalxowmwpci</th>\n",
       "      <th>channel_foosdfpfkusacimwkcsosbicdxkicaua</th>\n",
       "      <th>channel_lmkebamcaaclubfxadlmueccxoimlema</th>\n",
       "      <th>channel_usilxuppasemubllopkaafesmlibmsdf</th>\n",
       "      <th>origin_up_kamkkxfxxuwbdslkwifmmcsiusiuosws</th>\n",
       "      <th>origin_up_ldkssxwpmemidmecebumciepifcamkci</th>\n",
       "      <th>origin_up_lxidpiddsbxsbosboudacockeimpuepw</th>\n",
       "    </tr>\n",
       "  </thead>\n",
       "  <tbody>\n",
       "    <tr>\n",
       "      <th>0</th>\n",
       "      <td>24011ae4ebbe3035111d65fa7c15bc57</td>\n",
       "      <td>0.000000</td>\n",
       "      <td>4.739944</td>\n",
       "      <td>0.000000</td>\n",
       "      <td>0.000000</td>\n",
       "      <td>0.0</td>\n",
       "      <td>0.444045</td>\n",
       "      <td>0.114481</td>\n",
       "      <td>0.098142</td>\n",
       "      <td>40.606701</td>\n",
       "      <td>...</td>\n",
       "      <td>2</td>\n",
       "      <td>6</td>\n",
       "      <td>0</td>\n",
       "      <td>0</td>\n",
       "      <td>1</td>\n",
       "      <td>0</td>\n",
       "      <td>0</td>\n",
       "      <td>0</td>\n",
       "      <td>0</td>\n",
       "      <td>1</td>\n",
       "    </tr>\n",
       "    <tr>\n",
       "      <th>1</th>\n",
       "      <td>d29c2c54acc38ff3c0614d0a653813dd</td>\n",
       "      <td>3.668479</td>\n",
       "      <td>0.000000</td>\n",
       "      <td>0.000000</td>\n",
       "      <td>2.280920</td>\n",
       "      <td>0.0</td>\n",
       "      <td>1.237292</td>\n",
       "      <td>0.145711</td>\n",
       "      <td>0.000000</td>\n",
       "      <td>44.311378</td>\n",
       "      <td>...</td>\n",
       "      <td>76</td>\n",
       "      <td>4</td>\n",
       "      <td>1</td>\n",
       "      <td>0</td>\n",
       "      <td>0</td>\n",
       "      <td>0</td>\n",
       "      <td>0</td>\n",
       "      <td>1</td>\n",
       "      <td>0</td>\n",
       "      <td>0</td>\n",
       "    </tr>\n",
       "    <tr>\n",
       "      <th>2</th>\n",
       "      <td>764c75f661154dac3a6c254cd082ea7d</td>\n",
       "      <td>2.736397</td>\n",
       "      <td>0.000000</td>\n",
       "      <td>0.000000</td>\n",
       "      <td>1.689841</td>\n",
       "      <td>0.0</td>\n",
       "      <td>1.599009</td>\n",
       "      <td>0.165794</td>\n",
       "      <td>0.087899</td>\n",
       "      <td>44.311378</td>\n",
       "      <td>...</td>\n",
       "      <td>68</td>\n",
       "      <td>8</td>\n",
       "      <td>0</td>\n",
       "      <td>0</td>\n",
       "      <td>1</td>\n",
       "      <td>0</td>\n",
       "      <td>0</td>\n",
       "      <td>1</td>\n",
       "      <td>0</td>\n",
       "      <td>0</td>\n",
       "    </tr>\n",
       "    <tr>\n",
       "      <th>3</th>\n",
       "      <td>bba03439a292a1e166f80264c16191cb</td>\n",
       "      <td>3.200029</td>\n",
       "      <td>0.000000</td>\n",
       "      <td>0.000000</td>\n",
       "      <td>2.382089</td>\n",
       "      <td>0.0</td>\n",
       "      <td>1.318689</td>\n",
       "      <td>0.146694</td>\n",
       "      <td>0.000000</td>\n",
       "      <td>44.311378</td>\n",
       "      <td>...</td>\n",
       "      <td>69</td>\n",
       "      <td>9</td>\n",
       "      <td>0</td>\n",
       "      <td>0</td>\n",
       "      <td>0</td>\n",
       "      <td>1</td>\n",
       "      <td>0</td>\n",
       "      <td>1</td>\n",
       "      <td>0</td>\n",
       "      <td>0</td>\n",
       "    </tr>\n",
       "    <tr>\n",
       "      <th>4</th>\n",
       "      <td>149d57cf92fc41cf94415803a877cb4b</td>\n",
       "      <td>3.646011</td>\n",
       "      <td>0.000000</td>\n",
       "      <td>2.721811</td>\n",
       "      <td>2.650065</td>\n",
       "      <td>0.0</td>\n",
       "      <td>2.122969</td>\n",
       "      <td>0.116900</td>\n",
       "      <td>0.100015</td>\n",
       "      <td>40.606701</td>\n",
       "      <td>...</td>\n",
       "      <td>71</td>\n",
       "      <td>9</td>\n",
       "      <td>1</td>\n",
       "      <td>0</td>\n",
       "      <td>0</td>\n",
       "      <td>0</td>\n",
       "      <td>0</td>\n",
       "      <td>1</td>\n",
       "      <td>0</td>\n",
       "      <td>0</td>\n",
       "    </tr>\n",
       "  </tbody>\n",
       "</table>\n",
       "<p>5 rows × 63 columns</p>\n",
       "</div>"
      ],
      "text/plain": [
       "                                 id  cons_12m  cons_gas_12m  cons_last_month  \\\n",
       "0  24011ae4ebbe3035111d65fa7c15bc57  0.000000      4.739944         0.000000   \n",
       "1  d29c2c54acc38ff3c0614d0a653813dd  3.668479      0.000000         0.000000   \n",
       "2  764c75f661154dac3a6c254cd082ea7d  2.736397      0.000000         0.000000   \n",
       "3  bba03439a292a1e166f80264c16191cb  3.200029      0.000000         0.000000   \n",
       "4  149d57cf92fc41cf94415803a877cb4b  3.646011      0.000000         2.721811   \n",
       "\n",
       "   forecast_cons_12m  forecast_discount_energy  forecast_meter_rent_12m  \\\n",
       "0           0.000000                       0.0                 0.444045   \n",
       "1           2.280920                       0.0                 1.237292   \n",
       "2           1.689841                       0.0                 1.599009   \n",
       "3           2.382089                       0.0                 1.318689   \n",
       "4           2.650065                       0.0                 2.122969   \n",
       "\n",
       "   forecast_price_energy_off_peak  forecast_price_energy_peak  \\\n",
       "0                        0.114481                    0.098142   \n",
       "1                        0.145711                    0.000000   \n",
       "2                        0.165794                    0.087899   \n",
       "3                        0.146694                    0.000000   \n",
       "4                        0.116900                    0.100015   \n",
       "\n",
       "   forecast_price_pow_off_peak  ...  months_modif_prod  months_renewal  \\\n",
       "0                    40.606701  ...                  2               6   \n",
       "1                    44.311378  ...                 76               4   \n",
       "2                    44.311378  ...                 68               8   \n",
       "3                    44.311378  ...                 69               9   \n",
       "4                    40.606701  ...                 71               9   \n",
       "\n",
       "   channel_MISSING  channel_ewpakwlliwisiwduibdlfmalxowmwpci  \\\n",
       "0                0                                         0   \n",
       "1                1                                         0   \n",
       "2                0                                         0   \n",
       "3                0                                         0   \n",
       "4                1                                         0   \n",
       "\n",
       "   channel_foosdfpfkusacimwkcsosbicdxkicaua  \\\n",
       "0                                         1   \n",
       "1                                         0   \n",
       "2                                         1   \n",
       "3                                         0   \n",
       "4                                         0   \n",
       "\n",
       "   channel_lmkebamcaaclubfxadlmueccxoimlema  \\\n",
       "0                                         0   \n",
       "1                                         0   \n",
       "2                                         0   \n",
       "3                                         1   \n",
       "4                                         0   \n",
       "\n",
       "   channel_usilxuppasemubllopkaafesmlibmsdf  \\\n",
       "0                                         0   \n",
       "1                                         0   \n",
       "2                                         0   \n",
       "3                                         0   \n",
       "4                                         0   \n",
       "\n",
       "   origin_up_kamkkxfxxuwbdslkwifmmcsiusiuosws  \\\n",
       "0                                           0   \n",
       "1                                           1   \n",
       "2                                           1   \n",
       "3                                           1   \n",
       "4                                           1   \n",
       "\n",
       "   origin_up_ldkssxwpmemidmecebumciepifcamkci  \\\n",
       "0                                           0   \n",
       "1                                           0   \n",
       "2                                           0   \n",
       "3                                           0   \n",
       "4                                           0   \n",
       "\n",
       "   origin_up_lxidpiddsbxsbosboudacockeimpuepw  \n",
       "0                                           1  \n",
       "1                                           0  \n",
       "2                                           0  \n",
       "3                                           0  \n",
       "4                                           0  \n",
       "\n",
       "[5 rows x 63 columns]"
      ]
     },
     "execution_count": 4,
     "metadata": {},
     "output_type": "execute_result"
    }
   ],
   "source": [
    "df = pd.read_csv('data_for_predictions.csv')\n",
    "df.drop(columns=[\"Unnamed: 0\"], inplace=True)\n",
    "df.head()"
   ]
  },
  {
   "cell_type": "markdown",
   "metadata": {
    "id": "N2gjvbtCUSKV"
   },
   "source": [
    "---\n",
    "\n",
    "## 3. Modelling\n",
    "\n",
    "We now have a dataset containing features that we have engineered and we are ready to start training a predictive model. Remember, we only need to focus on training a `Random Forest` classifier."
   ]
  },
  {
   "cell_type": "code",
   "execution_count": 5,
   "metadata": {
    "id": "cPHZWHC8USKV"
   },
   "outputs": [],
   "source": [
    "from sklearn import metrics\n",
    "from sklearn.model_selection import train_test_split\n",
    "from sklearn.ensemble import RandomForestClassifier"
   ]
  },
  {
   "cell_type": "markdown",
   "metadata": {
    "id": "PitUvSFhUSKV"
   },
   "source": [
    "### Data sampling\n",
    "\n",
    "The first thing we want to do is split our dataset into training and test samples. The reason why we do this, is so that we can simulate a real life situation by generating predictions for our test sample, without showing the predictive model these data points. This gives us the ability to see how well our model is able to generalise to new data, which is critical.\n",
    "\n",
    "A typical % to dedicate to testing is between 20-30, for this example we will use a 75-25% split between train and test respectively."
   ]
  },
  {
   "cell_type": "code",
   "execution_count": 6,
   "metadata": {
    "id": "dstIVhBnUSKW",
    "outputId": "fdc82a65-36c0-4229-d729-161989dccda7"
   },
   "outputs": [
    {
     "name": "stdout",
     "output_type": "stream",
     "text": [
      "(14606, 61)\n",
      "(14606,)\n"
     ]
    }
   ],
   "source": [
    "# Make a copy of our data\n",
    "train_df = df.copy()\n",
    "\n",
    "# Separate target variable from independent variables\n",
    "y = df['churn']\n",
    "X = df.drop(columns=['id', 'churn'])\n",
    "print(X.shape)\n",
    "print(y.shape)"
   ]
  },
  {
   "cell_type": "code",
   "execution_count": 7,
   "metadata": {
    "id": "ifim4p1WUSKW",
    "outputId": "d689475d-555c-48d0-a0be-a0fbe812ab47"
   },
   "outputs": [
    {
     "name": "stdout",
     "output_type": "stream",
     "text": [
      "(10954, 61)\n",
      "(10954,)\n",
      "(3652, 61)\n",
      "(3652,)\n"
     ]
    }
   ],
   "source": [
    "X_train, X_test, y_train, y_test = train_test_split(X, y, test_size=0.25, random_state=42)\n",
    "print(X_train.shape)\n",
    "print(y_train.shape)\n",
    "print(X_test.shape)\n",
    "print(y_test.shape)"
   ]
  },
  {
   "cell_type": "markdown",
   "metadata": {
    "id": "22A_oe_PUSKX"
   },
   "source": [
    "### Model training\n",
    "\n",
    "Once again, we are using a `Random Forest` classifier in this example. A Random Forest sits within the category of `ensemble` algorithms because internally the `Forest` refers to a collection of `Decision Trees` which are tree-based learning algorithms. As the data scientist, you can control how large the forest is (that is, how many decision trees you want to include).\n",
    "\n",
    "The reason why an `ensemble` algorithm is powerful is because of the laws of averaging, weak learners and the central limit theorem. If we take a single decision tree and give it a sample of data and some parameters, it will learn patterns from the data. It may be overfit or it may be underfit, but that is now our only hope, that single algorithm. \n",
    "\n",
    "With `ensemble` methods, instead of banking on 1 single trained model, we can train 1000's of decision trees, all using different splits of the data and learning different patterns. It would be like asking 1000 people to all learn how to code. You would end up with 1000 people with different answers, methods and styles! The weak learner notion applies here too, it has been found that if you train your learners not to overfit, but to learn weak patterns within the data and you have a lot of these weak learners, together they come together to form a highly predictive pool of knowledge! This is a real life application of many brains are better than 1.\n",
    "\n",
    "Now instead of relying on 1 single decision tree for prediction, the random forest puts it to the overall views of the entire collection of decision trees. Some ensemble algorithms using a voting approach to decide which prediction is best, others using averaging. \n",
    "\n",
    "As we increase the number of learners, the idea is that the random forest's performance should converge to its best possible solution.\n",
    "\n",
    "Some additional advantages of the random forest classifier include:\n",
    "\n",
    "- The random forest uses a rule-based approach instead of a distance calculation and so features do not need to be scaled\n",
    "- It is able to handle non-linear parameters better than linear based models\n",
    "\n",
    "On the flip side, some disadvantages of the random forest classifier include:\n",
    "\n",
    "- The computational power needed to train a random forest on a large dataset is high, since we need to build a whole ensemble of estimators.\n",
    "- Training time can be longer due to the increased complexity and size of thee ensemble"
   ]
  },
  {
   "cell_type": "markdown",
   "metadata": {},
   "source": [
    "# Random Forest"
   ]
  },
  {
   "cell_type": "code",
   "execution_count": 8,
   "metadata": {
    "id": "km_R7pYnUSKX"
   },
   "outputs": [
    {
     "data": {
      "text/plain": [
       "RandomForestClassifier(random_state=42)"
      ]
     },
     "execution_count": 8,
     "metadata": {},
     "output_type": "execute_result"
    }
   ],
   "source": [
    "rf_model = RandomForestClassifier(n_estimators=100, random_state=42)\n",
    "rf_model.fit(X_train, y_train)"
   ]
  },
  {
   "cell_type": "code",
   "execution_count": 9,
   "metadata": {},
   "outputs": [],
   "source": [
    "y_pred = rf_model.predict(X_test)\n",
    "y_pred_proba = rf_model.predict_proba(X_test)[:, 1]"
   ]
  },
  {
   "cell_type": "markdown",
   "metadata": {
    "id": "bwueFNNZUSKY"
   },
   "source": [
    "### Evaluation\n",
    "\n",
    "Now let's evaluate how well this trained model is able to predict the values of the test dataset."
   ]
  },
  {
   "cell_type": "code",
   "execution_count": 10,
   "metadata": {},
   "outputs": [],
   "source": [
    "accuracy = accuracy_score(y_test, y_pred)\n",
    "roc_auc = roc_auc_score(y_test, y_pred_proba)\n",
    "conf_matrix = confusion_matrix(y_test, y_pred)\n",
    "class_report = classification_report(y_test, y_pred)"
   ]
  },
  {
   "cell_type": "code",
   "execution_count": 11,
   "metadata": {
    "id": "ncDbDAcJUSKY"
   },
   "outputs": [
    {
     "name": "stdout",
     "output_type": "stream",
     "text": [
      "Accuracy: 0.9039\n",
      "ROC-AUC: 0.6673\n",
      "Confusion Matrix:\n",
      " [[3282    4]\n",
      " [ 347   19]]\n",
      "Classfication Report:\n",
      "               precision    recall  f1-score   support\n",
      "\n",
      "           0       0.90      1.00      0.95      3286\n",
      "           1       0.83      0.05      0.10       366\n",
      "\n",
      "    accuracy                           0.90      3652\n",
      "   macro avg       0.87      0.53      0.52      3652\n",
      "weighted avg       0.90      0.90      0.86      3652\n",
      "\n"
     ]
    }
   ],
   "source": [
    "print(f\"Accuracy: {accuracy:.4f}\")\n",
    "print(f\"ROC-AUC: {roc_auc:.4f}\")\n",
    "print(\"Confusion Matrix:\\n\", conf_matrix)\n",
    "print(\"Classfication Report:\\n\", class_report)"
   ]
  },
  {
   "cell_type": "code",
   "execution_count": 12,
   "metadata": {
    "id": "KRXNkqQYUSKY"
   },
   "outputs": [
    {
     "data": {
      "image/png": "[encoded data removed]",
      "text/plain": [
       "<Figure size 600x500 with 2 Axes>"
      ]
     },
     "metadata": {},
     "output_type": "display_data"
    }
   ],
   "source": [
    "plt.figure(figsize=(6, 5))\n",
    "sns.heatmap(conf_matrix, annot=True, fmt=\"d\", cmap=\"coolwarm\", xticklabels=[\"Not Churn\", \"Churn\"], yticklabels=[\"Not Churn\", \"Churn\"])\n",
    "plt.xlabel(\"Predicted\")\n",
    "plt.ylabel(\"Actual\")\n",
    "plt.title(\"Confusion Matrix\")\n",
    "plt.show()"
   ]
  },
  {
   "cell_type": "code",
   "execution_count": null,
   "metadata": {},
   "outputs": [],
   "source": []
  }
 ],
 "metadata": {
  "colab": {
   "provenance": []
  },
  "interpreter": {
   "hash": "152bf6e7dc8ee53edb5af21dc1a8faeab7f134840808a94079ed98d91ece7e0c"
  },
  "kernelspec": {
   "display_name": "Python 3 (ipykernel)",
   "language": "python",
   "name": "python3"
  },
  "language_info": {
   "codemirror_mode": {
    "name": "ipython",
    "version": 3
   },
   "file_extension": ".py",
   "mimetype": "text/x-python",
   "name": "python",
   "nbconvert_exporter": "python",
   "pygments_lexer": "ipython3",
   "version": "3.9.17"
  }
 },
 "nbformat": 4,
 "nbformat_minor": 1
}
